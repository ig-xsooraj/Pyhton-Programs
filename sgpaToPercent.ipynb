{
 "cells": [
  {
   "cell_type": "markdown",
   "metadata": {},
   "source": [
    "#Program to Convert the SGPA value into Percentage(%) in Python.\n",
    "    <hr>by ig.xsooraj"
   ]
  },
  {
   "cell_type": "code",
   "execution_count": 11,
   "metadata": {},
   "outputs": [
    {
     "name": "stdout",
     "output_type": "stream",
     "text": [
      "The SGPA values are: [7.17, 9.55, 9.23, 9.0, 9.38]\n",
      "The percentage values are: [64.2, 88.0, 84.80000000000001, 82.5, 86.30000000000001]\n",
      "The sum total of 5 semester is 81.16 \n"
     ]
    }
   ],
   "source": [
    "def sgpa_to_percentage(sgpa_value):\n",
    "    percentage_value = (sgpa_value - 0.75)*10                        # \"\"\"Converts a SGPA value to a percentage.\"\"\"\n",
    "    return percentage_value\n",
    "\n",
    "\n",
    "def main():\n",
    "\n",
    "    n = int(input(\"Enter the number of SGPA values: \"))               # \"\"\"Takes n number of float values and converts it from SGPA to percentage.\"\"\"\n",
    "\n",
    "    sgpa_values = []                                                   #Taking the sgpa valuse usnig for loop \n",
    "    for i in range(n):\n",
    "        sgpa_value = float(input(\"Enter SGPA value: \"))\n",
    "        sgpa_values.append(sgpa_value)                                 #appending to the sgpa_values list  \n",
    "\n",
    "    percentage_values = []\n",
    "    for sgpa_value in sgpa_values:\n",
    "        percentage_value = sgpa_to_percentage(sgpa_value)\n",
    "        percentage_values.append(percentage_value)\n",
    "\n",
    "    #Print the values of all  which are needed...............\n",
    "    print(\"The SGPA values are:\", sgpa_values)\n",
    "    print(\"The percentage values are:\", percentage_values)\n",
    "    total =  add(percentage_values)\n",
    "    print(f\"The sum total of {n} semester is {total/n} \")\n",
    "\n",
    "\n",
    "def add(percentage_values):\n",
    "    total = 0\n",
    "    for i in range(len(percentage_values)):\n",
    "        total = total+percentage_values[i]\n",
    "    return total\n",
    "\n",
    "\n",
    "if __name__ == \"__main__\":\n",
    "    main()"
   ]
  }
 ],
 "metadata": {
  "kernelspec": {
   "display_name": "Python 3",
   "language": "python",
   "name": "python3"
  },
  "language_info": {
   "codemirror_mode": {
    "name": "ipython",
    "version": 3
   },
   "file_extension": ".py",
   "mimetype": "text/x-python",
   "name": "python",
   "nbconvert_exporter": "python",
   "pygments_lexer": "ipython3",
   "version": "3.11.0"
  },
  "orig_nbformat": 4
 },
 "nbformat": 4,
 "nbformat_minor": 2
}
